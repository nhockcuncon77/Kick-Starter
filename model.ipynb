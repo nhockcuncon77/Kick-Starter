{
  "cells": [
    {
      "cell_type": "code",
      "execution_count": 1,
      "metadata": {
        "colab": {
          "base_uri": "https://localhost:8080/"
        },
        "id": "DI8oLHA0o-_T",
        "outputId": "e9f7a54b-4a61-4a9c-9c21-dfc87e48b4d5"
      },
      "outputs": [
        {
          "name": "stdout",
          "output_type": "stream",
          "text": [
            "CPU times: user 664 ms, sys: 160 ms, total: 823 ms\n",
            "Wall time: 612 ms\n"
          ]
        }
      ],
      "source": [
        "%%time\n",
        "import pandas as pd\n",
        "import numpy as np\n",
        "import datetime\n",
        "import matplotlib.pyplot as plt\n",
        "import matplotlib\n",
        "import seaborn as sns\n",
        "import math\n",
        "import xgboost as xgb\n",
        "from scipy.stats import skew\n",
        "from scipy import stats\n",
        "from sklearn.preprocessing import OneHotEncoder, LabelEncoder, StandardScaler\n",
        "from sklearn.model_selection import train_test_split, GridSearchCV\n",
        "from sklearn.compose import ColumnTransformer\n",
        "from sklearn.pipeline import Pipeline\n",
        "from sklearn.impute import SimpleImputer\n",
        "from sklearn.ensemble import RandomForestClassifier\n",
        "from sklearn.metrics import accuracy_score, auc, classification_report, roc_curve, roc_auc_score, confusion_matrix\n",
        "from sklearn.linear_model import LogisticRegression\n",
        "from sklearn.tree import DecisionTreeClassifier\n",
        "from sklearn.svm import SVC\n",
        "from sklearn.neighbors import KNeighborsClassifier\n",
        "from datetime import datetime\n",
        "# You'll use en_core_web_sm for the sprint challenge due memory constraints on Codegrader\n",
        "#!python -m spacy download en_core_web_sm \n",
        "\n",
        "# Locally (or on colab) let's use en_core_web_lg \n",
        "#!python -m spacy download en_core_web_md \n"
      ]
    },
    {
      "cell_type": "code",
      "execution_count": 2,
      "metadata": {
        "id": "gPnCVIZCddg2"
      },
      "outputs": [],
      "source": [
        "\n",
        "# import en_core_web_md"
      ]
    },
    {
      "cell_type": "code",
      "execution_count": 3,
      "metadata": {
        "id": "rbUcypMNjbD2"
      },
      "outputs": [],
      "source": [
        "import re\n",
        "import string\n",
        "\n",
        "from sklearn.feature_extraction.text import CountVectorizer, TfidfVectorizer\n",
        "import matplotlib.pyplot as plt\n",
        "import pandas as pd\n",
        "import numpy as np\n",
        "# import spacy\n",
        "\n",
        "# from bs4 import BeautifulSoup\n",
        "%matplotlib inline\n",
        "\n",
        "\n",
        "# nlp = spacy.load(\"en_core_web_md\")"
      ]
    },
    {
      "cell_type": "code",
      "execution_count": 4,
      "metadata": {},
      "outputs": [],
      "source": [
        "import pickle as pkl\n"
      ]
    },
    {
      "cell_type": "code",
      "execution_count": 5,
      "metadata": {
        "id": "AqFipYytpbv1"
      },
      "outputs": [],
      "source": [
        "train = pd.read_csv('/Users/colerichards/Downloads/archive/train.csv')\n",
        "test = pd.read_csv('/Users/colerichards/Downloads/archive/test.csv')"
      ]
    },
    {
      "cell_type": "code",
      "execution_count": 6,
      "metadata": {
        "colab": {
          "base_uri": "https://localhost:8080/",
          "height": 598
        },
        "id": "vZH1cO5lpqyk",
        "outputId": "6770b8a6-85f3-4ab5-bd1f-4435a7d13818"
      },
      "outputs": [
        {
          "data": {
            "text/html": [
              "<div>\n",
              "<style scoped>\n",
              "    .dataframe tbody tr th:only-of-type {\n",
              "        vertical-align: middle;\n",
              "    }\n",
              "\n",
              "    .dataframe tbody tr th {\n",
              "        vertical-align: top;\n",
              "    }\n",
              "\n",
              "    .dataframe thead th {\n",
              "        text-align: right;\n",
              "    }\n",
              "</style>\n",
              "<table border=\"1\" class=\"dataframe\">\n",
              "  <thead>\n",
              "    <tr style=\"text-align: right;\">\n",
              "      <th></th>\n",
              "      <th>project_id</th>\n",
              "      <th>name</th>\n",
              "      <th>desc</th>\n",
              "      <th>goal</th>\n",
              "      <th>keywords</th>\n",
              "      <th>disable_communication</th>\n",
              "      <th>country</th>\n",
              "      <th>currency</th>\n",
              "      <th>deadline</th>\n",
              "      <th>state_changed_at</th>\n",
              "      <th>created_at</th>\n",
              "      <th>launched_at</th>\n",
              "      <th>backers_count</th>\n",
              "      <th>final_status</th>\n",
              "    </tr>\n",
              "  </thead>\n",
              "  <tbody>\n",
              "    <tr>\n",
              "      <th>0</th>\n",
              "      <td>kkst1451568084</td>\n",
              "      <td>drawing for dollars</td>\n",
              "      <td>I like drawing pictures. and then i color them...</td>\n",
              "      <td>20.0</td>\n",
              "      <td>drawing-for-dollars</td>\n",
              "      <td>False</td>\n",
              "      <td>US</td>\n",
              "      <td>USD</td>\n",
              "      <td>1241333999</td>\n",
              "      <td>1241334017</td>\n",
              "      <td>1240600507</td>\n",
              "      <td>1240602723</td>\n",
              "      <td>3</td>\n",
              "      <td>1</td>\n",
              "    </tr>\n",
              "    <tr>\n",
              "      <th>1</th>\n",
              "      <td>kkst1474482071</td>\n",
              "      <td>Sponsor Dereck Blackburn (Lostwars) Artist in ...</td>\n",
              "      <td>I, Dereck Blackburn will be taking upon an inc...</td>\n",
              "      <td>300.0</td>\n",
              "      <td>sponsor-dereck-blackburn-lostwars-artist-in-re...</td>\n",
              "      <td>False</td>\n",
              "      <td>US</td>\n",
              "      <td>USD</td>\n",
              "      <td>1242429000</td>\n",
              "      <td>1242432018</td>\n",
              "      <td>1240960224</td>\n",
              "      <td>1240975592</td>\n",
              "      <td>2</td>\n",
              "      <td>0</td>\n",
              "    </tr>\n",
              "    <tr>\n",
              "      <th>2</th>\n",
              "      <td>kkst183622197</td>\n",
              "      <td>Mr. Squiggles</td>\n",
              "      <td>So I saw darkpony's successfully funded drawin...</td>\n",
              "      <td>30.0</td>\n",
              "      <td>mr-squiggles</td>\n",
              "      <td>False</td>\n",
              "      <td>US</td>\n",
              "      <td>USD</td>\n",
              "      <td>1243027560</td>\n",
              "      <td>1243027818</td>\n",
              "      <td>1242163613</td>\n",
              "      <td>1242164398</td>\n",
              "      <td>0</td>\n",
              "      <td>0</td>\n",
              "    </tr>\n",
              "    <tr>\n",
              "      <th>3</th>\n",
              "      <td>kkst597742710</td>\n",
              "      <td>Help me write my second novel.</td>\n",
              "      <td>Do your part to help out starving artists and ...</td>\n",
              "      <td>500.0</td>\n",
              "      <td>help-me-write-my-second-novel</td>\n",
              "      <td>False</td>\n",
              "      <td>US</td>\n",
              "      <td>USD</td>\n",
              "      <td>1243555740</td>\n",
              "      <td>1243556121</td>\n",
              "      <td>1240963795</td>\n",
              "      <td>1240966730</td>\n",
              "      <td>18</td>\n",
              "      <td>1</td>\n",
              "    </tr>\n",
              "    <tr>\n",
              "      <th>4</th>\n",
              "      <td>kkst1913131122</td>\n",
              "      <td>Support casting my sculpture in bronze</td>\n",
              "      <td>I'm nearing completion on a sculpture, current...</td>\n",
              "      <td>2000.0</td>\n",
              "      <td>support-casting-my-sculpture-in-bronze</td>\n",
              "      <td>False</td>\n",
              "      <td>US</td>\n",
              "      <td>USD</td>\n",
              "      <td>1243769880</td>\n",
              "      <td>1243770317</td>\n",
              "      <td>1241177914</td>\n",
              "      <td>1241180541</td>\n",
              "      <td>1</td>\n",
              "      <td>0</td>\n",
              "    </tr>\n",
              "  </tbody>\n",
              "</table>\n",
              "</div>"
            ],
            "text/plain": [
              "       project_id                                               name  \\\n",
              "0  kkst1451568084                                drawing for dollars   \n",
              "1  kkst1474482071  Sponsor Dereck Blackburn (Lostwars) Artist in ...   \n",
              "2   kkst183622197                                      Mr. Squiggles   \n",
              "3   kkst597742710                     Help me write my second novel.   \n",
              "4  kkst1913131122             Support casting my sculpture in bronze   \n",
              "\n",
              "                                                desc    goal  \\\n",
              "0  I like drawing pictures. and then i color them...    20.0   \n",
              "1  I, Dereck Blackburn will be taking upon an inc...   300.0   \n",
              "2  So I saw darkpony's successfully funded drawin...    30.0   \n",
              "3  Do your part to help out starving artists and ...   500.0   \n",
              "4  I'm nearing completion on a sculpture, current...  2000.0   \n",
              "\n",
              "                                            keywords  disable_communication  \\\n",
              "0                                drawing-for-dollars                  False   \n",
              "1  sponsor-dereck-blackburn-lostwars-artist-in-re...                  False   \n",
              "2                                       mr-squiggles                  False   \n",
              "3                      help-me-write-my-second-novel                  False   \n",
              "4             support-casting-my-sculpture-in-bronze                  False   \n",
              "\n",
              "  country currency    deadline  state_changed_at  created_at  launched_at  \\\n",
              "0      US      USD  1241333999        1241334017  1240600507   1240602723   \n",
              "1      US      USD  1242429000        1242432018  1240960224   1240975592   \n",
              "2      US      USD  1243027560        1243027818  1242163613   1242164398   \n",
              "3      US      USD  1243555740        1243556121  1240963795   1240966730   \n",
              "4      US      USD  1243769880        1243770317  1241177914   1241180541   \n",
              "\n",
              "   backers_count  final_status  \n",
              "0              3             1  \n",
              "1              2             0  \n",
              "2              0             0  \n",
              "3             18             1  \n",
              "4              1             0  "
            ]
          },
          "execution_count": 6,
          "metadata": {},
          "output_type": "execute_result"
        }
      ],
      "source": [
        "train.head()"
      ]
    },
    {
      "cell_type": "code",
      "execution_count": 7,
      "metadata": {
        "colab": {
          "base_uri": "https://localhost:8080/"
        },
        "id": "XpRCvO5cSJLk",
        "outputId": "da88b73e-2c16-4c37-bf69-521cd341345c"
      },
      "outputs": [
        {
          "data": {
            "text/plain": [
              "project_id               108129\n",
              "name                     107838\n",
              "desc                     107377\n",
              "goal                       3567\n",
              "keywords                 108129\n",
              "disable_communication         2\n",
              "country                      11\n",
              "currency                      9\n",
              "deadline                 100933\n",
              "state_changed_at         102417\n",
              "created_at               108062\n",
              "launched_at              108039\n",
              "backers_count              2426\n",
              "final_status                  2\n",
              "dtype: int64"
            ]
          },
          "execution_count": 7,
          "metadata": {},
          "output_type": "execute_result"
        }
      ],
      "source": [
        "train.nunique()"
      ]
    },
    {
      "cell_type": "code",
      "execution_count": 8,
      "metadata": {
        "colab": {
          "base_uri": "https://localhost:8080/"
        },
        "id": "OvzRDmJQpvXl",
        "outputId": "4fec8972-61de-4594-c245-ef4de1d85cd0"
      },
      "outputs": [
        {
          "data": {
            "text/plain": [
              "project_id               0\n",
              "name                     3\n",
              "desc                     9\n",
              "goal                     0\n",
              "keywords                 0\n",
              "disable_communication    0\n",
              "country                  0\n",
              "currency                 0\n",
              "deadline                 0\n",
              "state_changed_at         0\n",
              "created_at               0\n",
              "launched_at              0\n",
              "backers_count            0\n",
              "final_status             0\n",
              "dtype: int64"
            ]
          },
          "execution_count": 8,
          "metadata": {},
          "output_type": "execute_result"
        }
      ],
      "source": [
        "train.isnull().sum()"
      ]
    },
    {
      "cell_type": "code",
      "execution_count": 9,
      "metadata": {
        "id": "6GtNLvBEw817"
      },
      "outputs": [],
      "source": [
        "train['log_goal'] = np.log10(train['goal'])"
      ]
    },
    {
      "cell_type": "code",
      "execution_count": 10,
      "metadata": {
        "colab": {
          "base_uri": "https://localhost:8080/",
          "height": 289
        },
        "id": "7m16EVR7w9st",
        "outputId": "2c865c5b-8bf0-4664-9a03-a8ba1364efc6"
      },
      "outputs": [
        {
          "data": {
            "text/html": [
              "<div>\n",
              "<style scoped>\n",
              "    .dataframe tbody tr th:only-of-type {\n",
              "        vertical-align: middle;\n",
              "    }\n",
              "\n",
              "    .dataframe tbody tr th {\n",
              "        vertical-align: top;\n",
              "    }\n",
              "\n",
              "    .dataframe thead th {\n",
              "        text-align: right;\n",
              "    }\n",
              "</style>\n",
              "<table border=\"1\" class=\"dataframe\">\n",
              "  <thead>\n",
              "    <tr style=\"text-align: right;\">\n",
              "      <th></th>\n",
              "      <th>project_id</th>\n",
              "      <th>name</th>\n",
              "      <th>desc</th>\n",
              "      <th>goal</th>\n",
              "      <th>keywords</th>\n",
              "      <th>disable_communication</th>\n",
              "      <th>country</th>\n",
              "      <th>currency</th>\n",
              "      <th>deadline</th>\n",
              "      <th>state_changed_at</th>\n",
              "      <th>created_at</th>\n",
              "      <th>launched_at</th>\n",
              "      <th>backers_count</th>\n",
              "      <th>final_status</th>\n",
              "      <th>log_goal</th>\n",
              "    </tr>\n",
              "  </thead>\n",
              "  <tbody>\n",
              "    <tr>\n",
              "      <th>0</th>\n",
              "      <td>kkst1451568084</td>\n",
              "      <td>drawing for dollars</td>\n",
              "      <td>I like drawing pictures. and then i color them...</td>\n",
              "      <td>20.0</td>\n",
              "      <td>drawing-for-dollars</td>\n",
              "      <td>False</td>\n",
              "      <td>US</td>\n",
              "      <td>USD</td>\n",
              "      <td>1241333999</td>\n",
              "      <td>1241334017</td>\n",
              "      <td>1240600507</td>\n",
              "      <td>1240602723</td>\n",
              "      <td>3</td>\n",
              "      <td>1</td>\n",
              "      <td>1.301030</td>\n",
              "    </tr>\n",
              "    <tr>\n",
              "      <th>1</th>\n",
              "      <td>kkst1474482071</td>\n",
              "      <td>Sponsor Dereck Blackburn (Lostwars) Artist in ...</td>\n",
              "      <td>I, Dereck Blackburn will be taking upon an inc...</td>\n",
              "      <td>300.0</td>\n",
              "      <td>sponsor-dereck-blackburn-lostwars-artist-in-re...</td>\n",
              "      <td>False</td>\n",
              "      <td>US</td>\n",
              "      <td>USD</td>\n",
              "      <td>1242429000</td>\n",
              "      <td>1242432018</td>\n",
              "      <td>1240960224</td>\n",
              "      <td>1240975592</td>\n",
              "      <td>2</td>\n",
              "      <td>0</td>\n",
              "      <td>2.477121</td>\n",
              "    </tr>\n",
              "    <tr>\n",
              "      <th>2</th>\n",
              "      <td>kkst183622197</td>\n",
              "      <td>Mr. Squiggles</td>\n",
              "      <td>So I saw darkpony's successfully funded drawin...</td>\n",
              "      <td>30.0</td>\n",
              "      <td>mr-squiggles</td>\n",
              "      <td>False</td>\n",
              "      <td>US</td>\n",
              "      <td>USD</td>\n",
              "      <td>1243027560</td>\n",
              "      <td>1243027818</td>\n",
              "      <td>1242163613</td>\n",
              "      <td>1242164398</td>\n",
              "      <td>0</td>\n",
              "      <td>0</td>\n",
              "      <td>1.477121</td>\n",
              "    </tr>\n",
              "    <tr>\n",
              "      <th>3</th>\n",
              "      <td>kkst597742710</td>\n",
              "      <td>Help me write my second novel.</td>\n",
              "      <td>Do your part to help out starving artists and ...</td>\n",
              "      <td>500.0</td>\n",
              "      <td>help-me-write-my-second-novel</td>\n",
              "      <td>False</td>\n",
              "      <td>US</td>\n",
              "      <td>USD</td>\n",
              "      <td>1243555740</td>\n",
              "      <td>1243556121</td>\n",
              "      <td>1240963795</td>\n",
              "      <td>1240966730</td>\n",
              "      <td>18</td>\n",
              "      <td>1</td>\n",
              "      <td>2.698970</td>\n",
              "    </tr>\n",
              "    <tr>\n",
              "      <th>4</th>\n",
              "      <td>kkst1913131122</td>\n",
              "      <td>Support casting my sculpture in bronze</td>\n",
              "      <td>I'm nearing completion on a sculpture, current...</td>\n",
              "      <td>2000.0</td>\n",
              "      <td>support-casting-my-sculpture-in-bronze</td>\n",
              "      <td>False</td>\n",
              "      <td>US</td>\n",
              "      <td>USD</td>\n",
              "      <td>1243769880</td>\n",
              "      <td>1243770317</td>\n",
              "      <td>1241177914</td>\n",
              "      <td>1241180541</td>\n",
              "      <td>1</td>\n",
              "      <td>0</td>\n",
              "      <td>3.301030</td>\n",
              "    </tr>\n",
              "  </tbody>\n",
              "</table>\n",
              "</div>"
            ],
            "text/plain": [
              "       project_id                                               name  \\\n",
              "0  kkst1451568084                                drawing for dollars   \n",
              "1  kkst1474482071  Sponsor Dereck Blackburn (Lostwars) Artist in ...   \n",
              "2   kkst183622197                                      Mr. Squiggles   \n",
              "3   kkst597742710                     Help me write my second novel.   \n",
              "4  kkst1913131122             Support casting my sculpture in bronze   \n",
              "\n",
              "                                                desc    goal  \\\n",
              "0  I like drawing pictures. and then i color them...    20.0   \n",
              "1  I, Dereck Blackburn will be taking upon an inc...   300.0   \n",
              "2  So I saw darkpony's successfully funded drawin...    30.0   \n",
              "3  Do your part to help out starving artists and ...   500.0   \n",
              "4  I'm nearing completion on a sculpture, current...  2000.0   \n",
              "\n",
              "                                            keywords  disable_communication  \\\n",
              "0                                drawing-for-dollars                  False   \n",
              "1  sponsor-dereck-blackburn-lostwars-artist-in-re...                  False   \n",
              "2                                       mr-squiggles                  False   \n",
              "3                      help-me-write-my-second-novel                  False   \n",
              "4             support-casting-my-sculpture-in-bronze                  False   \n",
              "\n",
              "  country currency    deadline  state_changed_at  created_at  launched_at  \\\n",
              "0      US      USD  1241333999        1241334017  1240600507   1240602723   \n",
              "1      US      USD  1242429000        1242432018  1240960224   1240975592   \n",
              "2      US      USD  1243027560        1243027818  1242163613   1242164398   \n",
              "3      US      USD  1243555740        1243556121  1240963795   1240966730   \n",
              "4      US      USD  1243769880        1243770317  1241177914   1241180541   \n",
              "\n",
              "   backers_count  final_status  log_goal  \n",
              "0              3             1  1.301030  \n",
              "1              2             0  2.477121  \n",
              "2              0             0  1.477121  \n",
              "3             18             1  2.698970  \n",
              "4              1             0  3.301030  "
            ]
          },
          "execution_count": 10,
          "metadata": {},
          "output_type": "execute_result"
        }
      ],
      "source": [
        "train.head(5)"
      ]
    },
    {
      "cell_type": "code",
      "execution_count": 11,
      "metadata": {
        "id": "A9fb6cqAxNEW"
      },
      "outputs": [],
      "source": [
        "train.loc[train['log_goal'] <= 1  , 'log_goal'] = 0 \n",
        "train.loc[(train['log_goal'] >1 ) & (train['log_goal']<= 3) , 'log_goal'] = 1  \n",
        "train.loc[train['log_goal'] > 3 & (train['log_goal']<=5), 'log_goal'] = 2  \n",
        "train.loc[train['log_goal'] > 5 , 'log_goal'] = 3"
      ]
    },
    {
      "cell_type": "code",
      "execution_count": 12,
      "metadata": {
        "colab": {
          "base_uri": "https://localhost:8080/",
          "height": 289
        },
        "id": "Qhx1Bv3RxQgH",
        "outputId": "e6c6b87b-5a27-43a4-fea6-3206380648ef"
      },
      "outputs": [
        {
          "data": {
            "text/html": [
              "<div>\n",
              "<style scoped>\n",
              "    .dataframe tbody tr th:only-of-type {\n",
              "        vertical-align: middle;\n",
              "    }\n",
              "\n",
              "    .dataframe tbody tr th {\n",
              "        vertical-align: top;\n",
              "    }\n",
              "\n",
              "    .dataframe thead th {\n",
              "        text-align: right;\n",
              "    }\n",
              "</style>\n",
              "<table border=\"1\" class=\"dataframe\">\n",
              "  <thead>\n",
              "    <tr style=\"text-align: right;\">\n",
              "      <th></th>\n",
              "      <th>project_id</th>\n",
              "      <th>name</th>\n",
              "      <th>desc</th>\n",
              "      <th>goal</th>\n",
              "      <th>keywords</th>\n",
              "      <th>disable_communication</th>\n",
              "      <th>country</th>\n",
              "      <th>currency</th>\n",
              "      <th>deadline</th>\n",
              "      <th>state_changed_at</th>\n",
              "      <th>created_at</th>\n",
              "      <th>launched_at</th>\n",
              "      <th>backers_count</th>\n",
              "      <th>final_status</th>\n",
              "      <th>log_goal</th>\n",
              "    </tr>\n",
              "  </thead>\n",
              "  <tbody>\n",
              "    <tr>\n",
              "      <th>0</th>\n",
              "      <td>kkst1451568084</td>\n",
              "      <td>drawing for dollars</td>\n",
              "      <td>I like drawing pictures. and then i color them...</td>\n",
              "      <td>20.0</td>\n",
              "      <td>drawing-for-dollars</td>\n",
              "      <td>False</td>\n",
              "      <td>US</td>\n",
              "      <td>USD</td>\n",
              "      <td>1241333999</td>\n",
              "      <td>1241334017</td>\n",
              "      <td>1240600507</td>\n",
              "      <td>1240602723</td>\n",
              "      <td>3</td>\n",
              "      <td>1</td>\n",
              "      <td>1.0</td>\n",
              "    </tr>\n",
              "    <tr>\n",
              "      <th>1</th>\n",
              "      <td>kkst1474482071</td>\n",
              "      <td>Sponsor Dereck Blackburn (Lostwars) Artist in ...</td>\n",
              "      <td>I, Dereck Blackburn will be taking upon an inc...</td>\n",
              "      <td>300.0</td>\n",
              "      <td>sponsor-dereck-blackburn-lostwars-artist-in-re...</td>\n",
              "      <td>False</td>\n",
              "      <td>US</td>\n",
              "      <td>USD</td>\n",
              "      <td>1242429000</td>\n",
              "      <td>1242432018</td>\n",
              "      <td>1240960224</td>\n",
              "      <td>1240975592</td>\n",
              "      <td>2</td>\n",
              "      <td>0</td>\n",
              "      <td>1.0</td>\n",
              "    </tr>\n",
              "    <tr>\n",
              "      <th>2</th>\n",
              "      <td>kkst183622197</td>\n",
              "      <td>Mr. Squiggles</td>\n",
              "      <td>So I saw darkpony's successfully funded drawin...</td>\n",
              "      <td>30.0</td>\n",
              "      <td>mr-squiggles</td>\n",
              "      <td>False</td>\n",
              "      <td>US</td>\n",
              "      <td>USD</td>\n",
              "      <td>1243027560</td>\n",
              "      <td>1243027818</td>\n",
              "      <td>1242163613</td>\n",
              "      <td>1242164398</td>\n",
              "      <td>0</td>\n",
              "      <td>0</td>\n",
              "      <td>1.0</td>\n",
              "    </tr>\n",
              "    <tr>\n",
              "      <th>3</th>\n",
              "      <td>kkst597742710</td>\n",
              "      <td>Help me write my second novel.</td>\n",
              "      <td>Do your part to help out starving artists and ...</td>\n",
              "      <td>500.0</td>\n",
              "      <td>help-me-write-my-second-novel</td>\n",
              "      <td>False</td>\n",
              "      <td>US</td>\n",
              "      <td>USD</td>\n",
              "      <td>1243555740</td>\n",
              "      <td>1243556121</td>\n",
              "      <td>1240963795</td>\n",
              "      <td>1240966730</td>\n",
              "      <td>18</td>\n",
              "      <td>1</td>\n",
              "      <td>1.0</td>\n",
              "    </tr>\n",
              "    <tr>\n",
              "      <th>4</th>\n",
              "      <td>kkst1913131122</td>\n",
              "      <td>Support casting my sculpture in bronze</td>\n",
              "      <td>I'm nearing completion on a sculpture, current...</td>\n",
              "      <td>2000.0</td>\n",
              "      <td>support-casting-my-sculpture-in-bronze</td>\n",
              "      <td>False</td>\n",
              "      <td>US</td>\n",
              "      <td>USD</td>\n",
              "      <td>1243769880</td>\n",
              "      <td>1243770317</td>\n",
              "      <td>1241177914</td>\n",
              "      <td>1241180541</td>\n",
              "      <td>1</td>\n",
              "      <td>0</td>\n",
              "      <td>2.0</td>\n",
              "    </tr>\n",
              "  </tbody>\n",
              "</table>\n",
              "</div>"
            ],
            "text/plain": [
              "       project_id                                               name  \\\n",
              "0  kkst1451568084                                drawing for dollars   \n",
              "1  kkst1474482071  Sponsor Dereck Blackburn (Lostwars) Artist in ...   \n",
              "2   kkst183622197                                      Mr. Squiggles   \n",
              "3   kkst597742710                     Help me write my second novel.   \n",
              "4  kkst1913131122             Support casting my sculpture in bronze   \n",
              "\n",
              "                                                desc    goal  \\\n",
              "0  I like drawing pictures. and then i color them...    20.0   \n",
              "1  I, Dereck Blackburn will be taking upon an inc...   300.0   \n",
              "2  So I saw darkpony's successfully funded drawin...    30.0   \n",
              "3  Do your part to help out starving artists and ...   500.0   \n",
              "4  I'm nearing completion on a sculpture, current...  2000.0   \n",
              "\n",
              "                                            keywords  disable_communication  \\\n",
              "0                                drawing-for-dollars                  False   \n",
              "1  sponsor-dereck-blackburn-lostwars-artist-in-re...                  False   \n",
              "2                                       mr-squiggles                  False   \n",
              "3                      help-me-write-my-second-novel                  False   \n",
              "4             support-casting-my-sculpture-in-bronze                  False   \n",
              "\n",
              "  country currency    deadline  state_changed_at  created_at  launched_at  \\\n",
              "0      US      USD  1241333999        1241334017  1240600507   1240602723   \n",
              "1      US      USD  1242429000        1242432018  1240960224   1240975592   \n",
              "2      US      USD  1243027560        1243027818  1242163613   1242164398   \n",
              "3      US      USD  1243555740        1243556121  1240963795   1240966730   \n",
              "4      US      USD  1243769880        1243770317  1241177914   1241180541   \n",
              "\n",
              "   backers_count  final_status  log_goal  \n",
              "0              3             1       1.0  \n",
              "1              2             0       1.0  \n",
              "2              0             0       1.0  \n",
              "3             18             1       1.0  \n",
              "4              1             0       2.0  "
            ]
          },
          "execution_count": 12,
          "metadata": {},
          "output_type": "execute_result"
        }
      ],
      "source": [
        "train.head(5)"
      ]
    },
    {
      "cell_type": "code",
      "execution_count": 13,
      "metadata": {
        "id": "5wlvobCjrBFw"
      },
      "outputs": [],
      "source": [
        "date_time = ['deadline', 'state_changed_at', 'created_at', 'launched_at']\n",
        "for i in date_time:\n",
        "    train[i] = train[i].apply(lambda x: datetime.fromtimestamp(int(x)).strftime('%Y-%m-%d %H:%M:%S'))"
      ]
    },
    {
      "cell_type": "code",
      "execution_count": 14,
      "metadata": {
        "id": "mwrFshi1re-C"
      },
      "outputs": [],
      "source": [
        "for i in date_time:\n",
        "    test[i] = test[i].apply(lambda x: datetime.fromtimestamp(int(x)).strftime('%Y-%m-%d %H:%M:%S'))"
      ]
    },
    {
      "cell_type": "code",
      "execution_count": 15,
      "metadata": {
        "id": "4ceOgJnSqvsH"
      },
      "outputs": [],
      "source": [
        "def Duration(d):\n",
        "    launch = datetime.strptime(d[0], '%Y-%m-%d %H:%M:%S')\n",
        "    deadline = datetime.strptime(d[1], '%Y-%m-%d %H:%M:%S')\n",
        "    duration = deadline-launch\n",
        "    weekDifference = int(duration.total_seconds()/(3600*24*7))\n",
        "    return weekDifference\n",
        "train['duration'] = train[['launched_at', 'deadline']].apply(lambda d: Duration(d), axis=1)"
      ]
    },
    {
      "cell_type": "code",
      "execution_count": 16,
      "metadata": {
        "id": "DqnAGT2Frcg3"
      },
      "outputs": [],
      "source": [
        "test['duration'] = test[['launched_at', 'deadline']].apply(lambda d: Duration(d), axis=1)"
      ]
    },
    {
      "cell_type": "code",
      "execution_count": 17,
      "metadata": {
        "colab": {
          "base_uri": "https://localhost:8080/",
          "height": 357
        },
        "id": "Pk_K5Be-4nW6",
        "outputId": "fecc5da8-5254-433b-f465-b443b985482d"
      },
      "outputs": [
        {
          "data": {
            "text/html": [
              "<div>\n",
              "<style scoped>\n",
              "    .dataframe tbody tr th:only-of-type {\n",
              "        vertical-align: middle;\n",
              "    }\n",
              "\n",
              "    .dataframe tbody tr th {\n",
              "        vertical-align: top;\n",
              "    }\n",
              "\n",
              "    .dataframe thead th {\n",
              "        text-align: right;\n",
              "    }\n",
              "</style>\n",
              "<table border=\"1\" class=\"dataframe\">\n",
              "  <thead>\n",
              "    <tr style=\"text-align: right;\">\n",
              "      <th></th>\n",
              "      <th>project_id</th>\n",
              "      <th>name</th>\n",
              "      <th>desc</th>\n",
              "      <th>goal</th>\n",
              "      <th>keywords</th>\n",
              "      <th>disable_communication</th>\n",
              "      <th>country</th>\n",
              "      <th>currency</th>\n",
              "      <th>deadline</th>\n",
              "      <th>state_changed_at</th>\n",
              "      <th>created_at</th>\n",
              "      <th>launched_at</th>\n",
              "      <th>backers_count</th>\n",
              "      <th>final_status</th>\n",
              "      <th>log_goal</th>\n",
              "      <th>duration</th>\n",
              "    </tr>\n",
              "  </thead>\n",
              "  <tbody>\n",
              "    <tr>\n",
              "      <th>0</th>\n",
              "      <td>kkst1451568084</td>\n",
              "      <td>drawing for dollars</td>\n",
              "      <td>I like drawing pictures. and then i color them...</td>\n",
              "      <td>20.0</td>\n",
              "      <td>drawing-for-dollars</td>\n",
              "      <td>False</td>\n",
              "      <td>US</td>\n",
              "      <td>USD</td>\n",
              "      <td>2009-05-02 23:59:59</td>\n",
              "      <td>2009-05-03 00:00:17</td>\n",
              "      <td>2009-04-24 12:15:07</td>\n",
              "      <td>2009-04-24 12:52:03</td>\n",
              "      <td>3</td>\n",
              "      <td>1</td>\n",
              "      <td>1.0</td>\n",
              "      <td>1</td>\n",
              "    </tr>\n",
              "    <tr>\n",
              "      <th>1</th>\n",
              "      <td>kkst1474482071</td>\n",
              "      <td>Sponsor Dereck Blackburn (Lostwars) Artist in ...</td>\n",
              "      <td>I, Dereck Blackburn will be taking upon an inc...</td>\n",
              "      <td>300.0</td>\n",
              "      <td>sponsor-dereck-blackburn-lostwars-artist-in-re...</td>\n",
              "      <td>False</td>\n",
              "      <td>US</td>\n",
              "      <td>USD</td>\n",
              "      <td>2009-05-15 16:10:00</td>\n",
              "      <td>2009-05-15 17:00:18</td>\n",
              "      <td>2009-04-28 16:10:24</td>\n",
              "      <td>2009-04-28 20:26:32</td>\n",
              "      <td>2</td>\n",
              "      <td>0</td>\n",
              "      <td>1.0</td>\n",
              "      <td>2</td>\n",
              "    </tr>\n",
              "    <tr>\n",
              "      <th>2</th>\n",
              "      <td>kkst183622197</td>\n",
              "      <td>Mr. Squiggles</td>\n",
              "      <td>So I saw darkpony's successfully funded drawin...</td>\n",
              "      <td>30.0</td>\n",
              "      <td>mr-squiggles</td>\n",
              "      <td>False</td>\n",
              "      <td>US</td>\n",
              "      <td>USD</td>\n",
              "      <td>2009-05-22 14:26:00</td>\n",
              "      <td>2009-05-22 14:30:18</td>\n",
              "      <td>2009-05-12 14:26:53</td>\n",
              "      <td>2009-05-12 14:39:58</td>\n",
              "      <td>0</td>\n",
              "      <td>0</td>\n",
              "      <td>1.0</td>\n",
              "      <td>1</td>\n",
              "    </tr>\n",
              "    <tr>\n",
              "      <th>3</th>\n",
              "      <td>kkst597742710</td>\n",
              "      <td>Help me write my second novel.</td>\n",
              "      <td>Do your part to help out starving artists and ...</td>\n",
              "      <td>500.0</td>\n",
              "      <td>help-me-write-my-second-novel</td>\n",
              "      <td>False</td>\n",
              "      <td>US</td>\n",
              "      <td>USD</td>\n",
              "      <td>2009-05-28 17:09:00</td>\n",
              "      <td>2009-05-28 17:15:21</td>\n",
              "      <td>2009-04-28 17:09:55</td>\n",
              "      <td>2009-04-28 17:58:50</td>\n",
              "      <td>18</td>\n",
              "      <td>1</td>\n",
              "      <td>1.0</td>\n",
              "      <td>4</td>\n",
              "    </tr>\n",
              "    <tr>\n",
              "      <th>4</th>\n",
              "      <td>kkst1913131122</td>\n",
              "      <td>Support casting my sculpture in bronze</td>\n",
              "      <td>I'm nearing completion on a sculpture, current...</td>\n",
              "      <td>2000.0</td>\n",
              "      <td>support-casting-my-sculpture-in-bronze</td>\n",
              "      <td>False</td>\n",
              "      <td>US</td>\n",
              "      <td>USD</td>\n",
              "      <td>2009-05-31 04:38:00</td>\n",
              "      <td>2009-05-31 04:45:17</td>\n",
              "      <td>2009-05-01 04:38:34</td>\n",
              "      <td>2009-05-01 05:22:21</td>\n",
              "      <td>1</td>\n",
              "      <td>0</td>\n",
              "      <td>2.0</td>\n",
              "      <td>4</td>\n",
              "    </tr>\n",
              "  </tbody>\n",
              "</table>\n",
              "</div>"
            ],
            "text/plain": [
              "       project_id                                               name  \\\n",
              "0  kkst1451568084                                drawing for dollars   \n",
              "1  kkst1474482071  Sponsor Dereck Blackburn (Lostwars) Artist in ...   \n",
              "2   kkst183622197                                      Mr. Squiggles   \n",
              "3   kkst597742710                     Help me write my second novel.   \n",
              "4  kkst1913131122             Support casting my sculpture in bronze   \n",
              "\n",
              "                                                desc    goal  \\\n",
              "0  I like drawing pictures. and then i color them...    20.0   \n",
              "1  I, Dereck Blackburn will be taking upon an inc...   300.0   \n",
              "2  So I saw darkpony's successfully funded drawin...    30.0   \n",
              "3  Do your part to help out starving artists and ...   500.0   \n",
              "4  I'm nearing completion on a sculpture, current...  2000.0   \n",
              "\n",
              "                                            keywords  disable_communication  \\\n",
              "0                                drawing-for-dollars                  False   \n",
              "1  sponsor-dereck-blackburn-lostwars-artist-in-re...                  False   \n",
              "2                                       mr-squiggles                  False   \n",
              "3                      help-me-write-my-second-novel                  False   \n",
              "4             support-casting-my-sculpture-in-bronze                  False   \n",
              "\n",
              "  country currency             deadline     state_changed_at  \\\n",
              "0      US      USD  2009-05-02 23:59:59  2009-05-03 00:00:17   \n",
              "1      US      USD  2009-05-15 16:10:00  2009-05-15 17:00:18   \n",
              "2      US      USD  2009-05-22 14:26:00  2009-05-22 14:30:18   \n",
              "3      US      USD  2009-05-28 17:09:00  2009-05-28 17:15:21   \n",
              "4      US      USD  2009-05-31 04:38:00  2009-05-31 04:45:17   \n",
              "\n",
              "            created_at          launched_at  backers_count  final_status  \\\n",
              "0  2009-04-24 12:15:07  2009-04-24 12:52:03              3             1   \n",
              "1  2009-04-28 16:10:24  2009-04-28 20:26:32              2             0   \n",
              "2  2009-05-12 14:26:53  2009-05-12 14:39:58              0             0   \n",
              "3  2009-04-28 17:09:55  2009-04-28 17:58:50             18             1   \n",
              "4  2009-05-01 04:38:34  2009-05-01 05:22:21              1             0   \n",
              "\n",
              "   log_goal  duration  \n",
              "0       1.0         1  \n",
              "1       1.0         2  \n",
              "2       1.0         1  \n",
              "3       1.0         4  \n",
              "4       2.0         4  "
            ]
          },
          "execution_count": 17,
          "metadata": {},
          "output_type": "execute_result"
        }
      ],
      "source": [
        "train.head()"
      ]
    },
    {
      "cell_type": "code",
      "execution_count": 18,
      "metadata": {
        "colab": {
          "base_uri": "https://localhost:8080/"
        },
        "id": "qjRPPoZNUL5f",
        "outputId": "13258a23-5b60-43cd-e552-053c8ae6c2e0"
      },
      "outputs": [
        {
          "data": {
            "text/plain": [
              "0    73568\n",
              "1    34561\n",
              "Name: final_status, dtype: int64"
            ]
          },
          "execution_count": 18,
          "metadata": {},
          "output_type": "execute_result"
        }
      ],
      "source": [
        "train['final_status'].value_counts()"
      ]
    },
    {
      "cell_type": "code",
      "execution_count": 19,
      "metadata": {
        "id": "keDyk0eAxYrJ"
      },
      "outputs": [],
      "source": [
        "test['log_goal'] = np.log10(test['goal'])"
      ]
    },
    {
      "cell_type": "code",
      "execution_count": 20,
      "metadata": {
        "id": "HrlIY1ILxbaP"
      },
      "outputs": [],
      "source": [
        "test.insert(loc=12, column='backers_count', value=0)"
      ]
    },
    {
      "cell_type": "code",
      "execution_count": 21,
      "metadata": {
        "id": "zfZXqm_3xcs3"
      },
      "outputs": [],
      "source": [
        "test.loc[test['log_goal'] <= 1  , 'log_goal'] = 0 \n",
        "test.loc[test['log_goal'] >1  & (test['log_goal']<= 3) , 'log_goal'] = 1  \n",
        "test.loc[test['log_goal'] > 3 & (test['log_goal']<=5), 'log_goal'] = 2  \n",
        "test.loc[test['log_goal'] > 5 , 'log_goal'] = 3  "
      ]
    },
    {
      "cell_type": "code",
      "execution_count": 22,
      "metadata": {
        "colab": {
          "base_uri": "https://localhost:8080/",
          "height": 357
        },
        "id": "fu6xqxBHxf7x",
        "outputId": "0f63bdc2-30b7-47c5-ecc6-821158f351ed"
      },
      "outputs": [
        {
          "data": {
            "text/html": [
              "<div>\n",
              "<style scoped>\n",
              "    .dataframe tbody tr th:only-of-type {\n",
              "        vertical-align: middle;\n",
              "    }\n",
              "\n",
              "    .dataframe tbody tr th {\n",
              "        vertical-align: top;\n",
              "    }\n",
              "\n",
              "    .dataframe thead th {\n",
              "        text-align: right;\n",
              "    }\n",
              "</style>\n",
              "<table border=\"1\" class=\"dataframe\">\n",
              "  <thead>\n",
              "    <tr style=\"text-align: right;\">\n",
              "      <th></th>\n",
              "      <th>project_id</th>\n",
              "      <th>name</th>\n",
              "      <th>desc</th>\n",
              "      <th>goal</th>\n",
              "      <th>keywords</th>\n",
              "      <th>disable_communication</th>\n",
              "      <th>country</th>\n",
              "      <th>currency</th>\n",
              "      <th>deadline</th>\n",
              "      <th>state_changed_at</th>\n",
              "      <th>created_at</th>\n",
              "      <th>launched_at</th>\n",
              "      <th>backers_count</th>\n",
              "      <th>duration</th>\n",
              "      <th>log_goal</th>\n",
              "    </tr>\n",
              "  </thead>\n",
              "  <tbody>\n",
              "    <tr>\n",
              "      <th>0</th>\n",
              "      <td>kkst917493670</td>\n",
              "      <td>Bràthair.</td>\n",
              "      <td>My first film, of many to come. Trying to purs...</td>\n",
              "      <td>7000.0</td>\n",
              "      <td>brathair</td>\n",
              "      <td>False</td>\n",
              "      <td>US</td>\n",
              "      <td>USD</td>\n",
              "      <td>2015-12-08 15:59:45</td>\n",
              "      <td>2015-12-08 15:59:45</td>\n",
              "      <td>2015-10-27 20:23:01</td>\n",
              "      <td>2015-10-29 15:59:45</td>\n",
              "      <td>0</td>\n",
              "      <td>5</td>\n",
              "      <td>1.0</td>\n",
              "    </tr>\n",
              "  </tbody>\n",
              "</table>\n",
              "</div>"
            ],
            "text/plain": [
              "      project_id       name  \\\n",
              "0  kkst917493670  Bràthair.   \n",
              "\n",
              "                                                desc    goal  keywords  \\\n",
              "0  My first film, of many to come. Trying to purs...  7000.0  brathair   \n",
              "\n",
              "   disable_communication country currency             deadline  \\\n",
              "0                  False      US      USD  2015-12-08 15:59:45   \n",
              "\n",
              "      state_changed_at           created_at          launched_at  \\\n",
              "0  2015-12-08 15:59:45  2015-10-27 20:23:01  2015-10-29 15:59:45   \n",
              "\n",
              "   backers_count  duration  log_goal  \n",
              "0              0         5       1.0  "
            ]
          },
          "execution_count": 22,
          "metadata": {},
          "output_type": "execute_result"
        }
      ],
      "source": [
        "test.head(1)"
      ]
    },
    {
      "cell_type": "code",
      "execution_count": null,
      "metadata": {
        "id": "lCJcDJAl_VV5"
      },
      "outputs": [],
      "source": []
    },
    {
      "cell_type": "code",
      "execution_count": 23,
      "metadata": {
        "id": "_k2rqRVup_IG"
      },
      "outputs": [],
      "source": [
        "my_features = ['country', 'currency', 'duration', 'goal'] #'backers_count']"
      ]
    },
    {
      "cell_type": "code",
      "execution_count": 24,
      "metadata": {
        "id": "Q7gNsuB6qA43"
      },
      "outputs": [],
      "source": [
        "dtrain = train[my_features]\n",
        "dtest = test[my_features]"
      ]
    },
    {
      "cell_type": "code",
      "execution_count": 25,
      "metadata": {
        "id": "bggjH-ZAuYLc"
      },
      "outputs": [],
      "source": [
        "y = train.final_status\n",
        "\n",
        "\n",
        "X_train, X_valid, y_train, y_valid = train_test_split(train, y, test_size=0.1, random_state=0)\n",
        "categorical_cols = [cname for cname in dtrain.columns if\n",
        "                    dtrain[cname].nunique() < 10 and \n",
        "                    dtrain[cname].dtype == \"object\"]\n",
        "\n",
        "numerical_cols = [cname for cname in dtrain.columns if \n",
        "                dtrain[cname].dtype in ['int64', 'float64']]"
      ]
    },
    {
      "cell_type": "code",
      "execution_count": 26,
      "metadata": {},
      "outputs": [
        {
          "data": {
            "text/plain": [
              "(97316, 16)"
            ]
          },
          "execution_count": 26,
          "metadata": {},
          "output_type": "execute_result"
        }
      ],
      "source": [
        "X_train.shape\n"
      ]
    },
    {
      "cell_type": "code",
      "execution_count": 27,
      "metadata": {
        "id": "s-dUDJsMp71q"
      },
      "outputs": [],
      "source": [
        "numerical_transformer = SimpleImputer(strategy='mean')\n",
        "\n",
        "categorical_transformer = Pipeline(steps=[\n",
        "    ('imputer', SimpleImputer(strategy='most_frequent')),\n",
        "    ('onehot', OneHotEncoder(handle_unknown='ignore', sparse=False))\n",
        "])\n",
        "\n",
        "sc = StandardScaler()\n",
        "\n",
        "preprocessor = ColumnTransformer(\n",
        "    transformers=[\n",
        "        ('num', numerical_transformer, numerical_cols),\n",
        "        ('cat', categorical_transformer, categorical_cols)\n",
        "    ])"
      ]
    },
    {
      "cell_type": "code",
      "execution_count": 28,
      "metadata": {
        "id": "cgFkotHFul9W"
      },
      "outputs": [],
      "source": [
        "Results = pd.DataFrame({'Model': [], 'Accuracy Score': []})"
      ]
    },
    {
      "cell_type": "code",
      "execution_count": 29,
      "metadata": {
        "colab": {
          "base_uri": "https://localhost:8080/"
        },
        "id": "O4d1FaFCudXF",
        "outputId": "b480d655-2398-49ce-e65e-fc80dc0874f1"
      },
      "outputs": [
        {
          "name": "stdout",
          "output_type": "stream",
          "text": [
            "Accuracy: 0.6297974660131324\n",
            "CR:               precision    recall  f1-score   support\n",
            "\n",
            "           0       0.71      0.79      0.75      7443\n",
            "           1       0.37      0.28      0.32      3370\n",
            "\n",
            "    accuracy                           0.63     10813\n",
            "   macro avg       0.54      0.53      0.53     10813\n",
            "weighted avg       0.60      0.63      0.61     10813\n",
            "\n",
            "CM: [[5865 1578]\n",
            " [2425  945]]\n"
          ]
        }
      ],
      "source": [
        "knnc = KNeighborsClassifier()\n",
        "\n",
        "knn = Pipeline(steps=[('preprocessor', preprocessor),\n",
        "                      ('sc',StandardScaler()),\n",
        "                      ('model', knnc)\n",
        "])\n",
        "\n",
        "knn.fit(X_train, y_train)\n",
        "\n",
        "predsKNN = knn.predict(X_valid)\n",
        "\n",
        "\n",
        "print('Accuracy:', accuracy_score(y_valid, predsKNN))\n",
        "print('CR:', classification_report(y_valid, predsKNN))\n",
        "print('CM:',confusion_matrix(y_valid, predsKNN))\n",
        "\n",
        "res = pd.DataFrame({'Model': ['KNN'],\n",
        "                    'Accuracy Score': [accuracy_score(y_valid, predsKNN)]})\n",
        "Results = Results.append(res)"
      ]
    },
    {
      "cell_type": "code",
      "execution_count": 30,
      "metadata": {
        "colab": {
          "base_uri": "https://localhost:8080/"
        },
        "id": "n0AoZus-W_5v",
        "outputId": "f0e952bd-325e-424b-efa3-0ddc3cc45529"
      },
      "outputs": [
        {
          "name": "stdout",
          "output_type": "stream",
          "text": [
            "Accuracy: 0.6297974660131324\n",
            "CR:               precision    recall  f1-score   support\n",
            "\n",
            "           0       0.71      0.79      0.75      7443\n",
            "           1       0.37      0.28      0.32      3370\n",
            "\n",
            "    accuracy                           0.63     10813\n",
            "   macro avg       0.54      0.53      0.53     10813\n",
            "weighted avg       0.60      0.63      0.61     10813\n",
            "\n",
            "CM: [[5865 1578]\n",
            " [2425  945]]\n"
          ]
        }
      ],
      "source": [
        "print('Accuracy:', accuracy_score(y_valid, predsKNN))\n",
        "print('CR:', classification_report(y_valid, predsKNN))\n",
        "print('CM:',confusion_matrix(y_valid, predsKNN))\n",
        "\n",
        "res = pd.DataFrame({'Model': ['KNN'],\n",
        "                    'Accuracy Score': [accuracy_score(y_valid, predsKNN)]})\n",
        "Results = Results.append(res)"
      ]
    },
    {
      "cell_type": "code",
      "execution_count": 31,
      "metadata": {
        "colab": {
          "base_uri": "https://localhost:8080/"
        },
        "id": "c5ynrjbjuo6Y",
        "outputId": "2768d3c0-bd84-45f0-d365-53f8e1599d30"
      },
      "outputs": [
        {
          "name": "stdout",
          "output_type": "stream",
          "text": [
            "[10:45:09] WARNING: /Users/runner/miniforge3/conda-bld/xgboost-split_1635105055642/work/src/learner.cc:1115: Starting in XGBoost 1.3.0, the default evaluation metric used with the objective 'binary:logistic' was changed from 'error' to 'logloss'. Explicitly set eval_metric if you'd like to restore the old behavior.\n"
          ]
        },
        {
          "data": {
            "text/plain": [
              "Pipeline(steps=[('preprocessor',\n",
              "                 ColumnTransformer(transformers=[('num', SimpleImputer(),\n",
              "                                                  ['duration', 'goal']),\n",
              "                                                 ('cat',\n",
              "                                                  Pipeline(steps=[('imputer',\n",
              "                                                                   SimpleImputer(strategy='most_frequent')),\n",
              "                                                                  ('onehot',\n",
              "                                                                   OneHotEncoder(handle_unknown='ignore',\n",
              "                                                                                 sparse=False))]),\n",
              "                                                  ['currency'])])),\n",
              "                ('model_xgb',\n",
              "                 XGBClassifier(base_score=0.5, booster='gbtree',\n",
              "                               colsample_bylevel=1, colsam...\n",
              "                               gamma=0, gpu_id=-1, importance_type=None,\n",
              "                               interaction_constraints='', learning_rate=0.1,\n",
              "                               max_delta_step=0, max_depth=2,\n",
              "                               min_child_weight=1, missing=nan,\n",
              "                               monotone_constraints='()', n_estimators=200,\n",
              "                               n_jobs=8, num_parallel_tree=1, predictor='auto',\n",
              "                               random_state=0, reg_alpha=0, reg_lambda=1,\n",
              "                               scale_pos_weight=1, subsample=1,\n",
              "                               tree_method='exact', use_label_encoder=False,\n",
              "                               validate_parameters=1, verbosity=None))])"
            ]
          },
          "execution_count": 31,
          "metadata": {},
          "output_type": "execute_result"
        }
      ],
      "source": [
        "from xgboost import XGBClassifier\n",
        "model_xgb = XGBClassifier(n_estimators= 200, learning_rate = 0.1, max_depth=2, use_label_encoder=False)\n",
        "\n",
        "xgb = Pipeline(steps=[('preprocessor', preprocessor),\n",
        "                      ('model_xgb', model_xgb)\n",
        "])\n",
        "\n",
        "\n",
        "xgb.fit(X_train, y_train)"
      ]
    },
    {
      "cell_type": "code",
      "execution_count": 32,
      "metadata": {},
      "outputs": [],
      "source": [
        "with open(\"model_k.pkl\",\"wb\") as f:\n",
        "    pkl.dump(model_xgb, f)"
      ]
    },
    {
      "cell_type": "code",
      "execution_count": 33,
      "metadata": {},
      "outputs": [],
      "source": [
        "with open(\"model_k.pkl\", 'rb') as f:\n",
        "    pkl.load(f)"
      ]
    },
    {
      "cell_type": "code",
      "execution_count": 34,
      "metadata": {
        "colab": {
          "base_uri": "https://localhost:8080/"
        },
        "id": "kfV6ng84vOr_",
        "outputId": "7a893da5-cb64-425a-91d9-490bdc084468"
      },
      "outputs": [
        {
          "name": "stdout",
          "output_type": "stream",
          "text": [
            "Accuracy: 0.6916674373439379\n",
            "CR:               precision    recall  f1-score   support\n",
            "\n",
            "           0       0.70      0.97      0.81      7443\n",
            "           1       0.54      0.07      0.12      3370\n",
            "\n",
            "    accuracy                           0.69     10813\n",
            "   macro avg       0.62      0.52      0.47     10813\n",
            "weighted avg       0.65      0.69      0.60     10813\n",
            "\n",
            "CM: [[7248  195]\n",
            " [3139  231]]\n"
          ]
        }
      ],
      "source": [
        "predictions = xgb.predict(X_valid)\n",
        "print('Accuracy:', accuracy_score(y_valid, predictions))\n",
        "print('CR:', classification_report(y_valid, predictions))\n",
        "print('CM:',confusion_matrix(y_valid, predictions))\n",
        "\n",
        "res = pd.DataFrame({'Model': ['XGB'],\n",
        "                    'Accuracy Score': [accuracy_score(y_valid, predictions)]})\n",
        "Results = Results.append(res)"
      ]
    },
    {
      "cell_type": "code",
      "execution_count": 35,
      "metadata": {
        "colab": {
          "base_uri": "https://localhost:8080/"
        },
        "id": "GNA_7GaTxyFy",
        "outputId": "9af18fd2-326b-4bfd-dcbd-c42d550179b0"
      },
      "outputs": [
        {
          "name": "stdout",
          "output_type": "stream",
          "text": [
            "Accuracy: 0.675020808286322\n",
            "CR:               precision    recall  f1-score   support\n",
            "\n",
            "           0       0.70      0.93      0.80      7443\n",
            "           1       0.41      0.10      0.17      3370\n",
            "\n",
            "    accuracy                           0.68     10813\n",
            "   macro avg       0.56      0.52      0.48     10813\n",
            "weighted avg       0.61      0.68      0.60     10813\n",
            "\n",
            "CM: [[6949  494]\n",
            " [3020  350]]\n"
          ]
        }
      ],
      "source": [
        "model = RandomForestClassifier(n_estimators=100, random_state=0,criterion='entropy')\n",
        "\n",
        "\n",
        "clf = Pipeline(steps=[('preprocessor', preprocessor),\n",
        "                      ('sc',StandardScaler()),\n",
        "                      ('model', model)\n",
        "])\n",
        "\n",
        "\n",
        "clf.fit(X_train, y_train)\n",
        "\n",
        "\n",
        "preds = clf.predict(X_valid)\n",
        "print('Accuracy:', accuracy_score(y_valid, preds))\n",
        "print('CR:', classification_report(y_valid, preds))\n",
        "print('CM:',confusion_matrix(y_valid, preds))\n",
        "\n",
        "res = pd.DataFrame({'Model': ['RandomForest'],\n",
        "                    'Accuracy Score': [accuracy_score(y_valid, preds)]})\n",
        "Results = Results.append(res)"
      ]
    }
  ],
  "metadata": {
    "colab": {
      "collapsed_sections": [],
      "name": "model.ipynb",
      "provenance": []
    },
    "kernelspec": {
      "display_name": "Python 3",
      "name": "python3"
    },
    "language_info": {
      "codemirror_mode": {
        "name": "ipython",
        "version": 3
      },
      "file_extension": ".py",
      "mimetype": "text/x-python",
      "name": "python",
      "nbconvert_exporter": "python",
      "pygments_lexer": "ipython3",
      "version": "3.9.6"
    }
  },
  "nbformat": 4,
  "nbformat_minor": 0
}
